{
 "cells": [
  {
   "cell_type": "markdown",
   "metadata": {},
   "source": [
    "Task 0"
   ]
  },
  {
   "cell_type": "code",
   "execution_count": 46,
   "metadata": {
    "collapsed": false
   },
   "outputs": [],
   "source": [
    "import numpy as np\n",
    "import math as m\n",
    "\n",
    "xfinal = 5000\n",
    "tfinal = 500\n",
    "tstep = 10\n",
    "xstep = 10\n",
    "sourceloc = xfinal/2\n",
    "nx = 200 #int(xfinal/xstep)\n",
    "nt = 200 #int(tfinal/tstep)\n",
    "\n",
    "imp0 = 337.0 #impedance\n",
    "\n",
    "ez = np.zeros(nx)\n",
    "hy = np.zeros(nx)\n",
    "\n",
    "def arrtofile(arr, filename):\n",
    "#{\n",
    "    filename = \"plot\" + filename\n",
    "    file = open(filename, 'w')\n",
    "\n",
    "    for i in range(0, len(arr)):\n",
    "        file.write(str(i))\n",
    "        file.write(\"    \")\n",
    "        file.write(str(arr[i]))\n",
    "        file.write(\"\\n\")\n",
    "\n",
    "    file.close()\n",
    "#}\n",
    "\n",
    "for dt in range(0,nt):\n",
    "    for j in range(0,nx-2):\n",
    "        hy[j] = hy[j] + (ez[j+1]-ez[j])/imp0\n",
    "        \n",
    "    for j in range(1,nx-1):\n",
    "        ez[j] = ez[j] + (hy[j]-hy[j-1])*imp0\n",
    "    ez[100] += m.exp(-(dt-30)*(dt-30)/100)\n",
    "\n",
    "    if ( dt%1 == 0 ):\n",
    "        arrtofile(ez,str(dt))\n",
    "        \n",
    "        "
   ]
  },
  {
   "cell_type": "code",
   "execution_count": null,
   "metadata": {
    "collapsed": true
   },
   "outputs": [],
   "source": []
  }
 ],
 "metadata": {
  "kernelspec": {
   "display_name": "Python 3",
   "language": "python",
   "name": "python3"
  },
  "language_info": {
   "codemirror_mode": {
    "name": "ipython",
    "version": 3
   },
   "file_extension": ".py",
   "mimetype": "text/x-python",
   "name": "python",
   "nbconvert_exporter": "python",
   "pygments_lexer": "ipython3",
   "version": "3.5.1"
  }
 },
 "nbformat": 4,
 "nbformat_minor": 0
}
