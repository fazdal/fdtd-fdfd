{
 "cells": [
  {
   "cell_type": "code",
   "execution_count": 19,
   "metadata": {
    "collapsed": false
   },
   "outputs": [],
   "source": [
    "import numpy as np\n",
    "import scipy.sparse.linalg as ssl\n",
    "\n",
    "c = 1 #spd of light\n",
    "size = 1   # domain size\n",
    "n = 100    # number of steps\n",
    "dx = size/n  #step size\n",
    "getev = 6 # eigenvalues desired\n",
    "\n",
    "eps1 = 13\n",
    "eps2 = 1\n",
    "\n",
    "iden = np.ones((n,n)) #identity matrix\n",
    "F = (1/dx)*(np.triu(iden)-2*np.diag(np.diag(iden))-np.triu(iden,2))\n",
    "B = (1/dx)*(-np.tril(iden)+2*np.diag(np.diag(iden))+np.tril(iden,-2))\n",
    "\n",
    "epscol = (1/eps1)*np.ones(n/2)\n",
    "epscol = np.append(epscol, (1/eps2)*np.ones(n/2))\n",
    "epsma = np.diag(epscol)\n",
    "\n",
    "kvec = 2*np.pi*np.arange(0.01,0.501,0.005)  #range of k's to be used\n",
    "k = np.zeros((getev, len(kvec)), dtype=complex)  #eigenvalues go here\n",
    "\n",
    "for i in range(0,len(kvec)):\n",
    "    k0 = kvec[i]\n",
    "    \n",
    "    F[n-1,0] = np.cos(k0*size)/dx\n",
    "    B[0,n-1] = -np.cos(k0*size)/dx\n",
    "    bf = -np.matmul(B,F)\n",
    "    ebf = np.matmul(epsma,bf)\n",
    "    \n",
    "    kt = k0/np.sqrt((eps1+eps2)/2)\n",
    "    k2, V = ssl.eigs(ebf, k=6, M=None, sigma=kt**2)\n",
    "    \n",
    "    k[:,i] = np.sqrt(k2)/c\n",
    "\n",
    "#print(np.linalg.eigvals(bf-kt**2))\n",
    "#print(np.real(k))\n",
    "\n",
    "lam = 2*np.pi*c/np.real(k)\n",
    "#qualf = np.real(k)/(2*np.imag(k))\n",
    "\n",
    "eplot = open('eplot2', 'w')\n",
    "for i in range(0,n):\n",
    "    eplot.write(str(i) + \"    \" + str(np.real(V[i,5])) + \"\\n\")\n",
    "eplot.close()\n",
    "\n",
    "for i in range(0,getev):\n",
    "    filename = 'bgdiag' + str(i)\n",
    "    bgdiag = open(filename, 'w')\n",
    "    for j in range(0,len(kvec)):\n",
    "        bgdiag.write(str(kvec[j]/(2*np.pi)) + \"    \" + str(np.real(k[i,j])/(2*np.pi)) + \"\\n\")\n",
    "    bgdiag.close()"
   ]
  },
  {
   "cell_type": "code",
   "execution_count": null,
   "metadata": {
    "collapsed": true
   },
   "outputs": [],
   "source": []
  }
 ],
 "metadata": {
  "kernelspec": {
   "display_name": "Python 3",
   "language": "python",
   "name": "python3"
  },
  "language_info": {
   "codemirror_mode": {
    "name": "ipython",
    "version": 3
   },
   "file_extension": ".py",
   "mimetype": "text/x-python",
   "name": "python",
   "nbconvert_exporter": "python",
   "pygments_lexer": "ipython3",
   "version": "3.5.1"
  }
 },
 "nbformat": 4,
 "nbformat_minor": 0
}
