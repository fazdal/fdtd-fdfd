{
 "cells": [
  {
   "cell_type": "code",
   "execution_count": 35,
   "metadata": {
    "collapsed": false
   },
   "outputs": [
    {
     "name": "stderr",
     "output_type": "stream",
     "text": [
      "C:\\Users\\cobaltixtab\\Anaconda3\\lib\\site-packages\\numpy\\core\\numeric.py:474: ComplexWarning: Casting complex values to real discards the imaginary part\n",
      "  return array(a, dtype, copy=False, order=order)\n"
     ]
    },
    {
     "data": {
      "image/png": "[encoded data removed]",
      "text/plain": [
       "<matplotlib.figure.Figure at 0x214a72f5470>"
      ]
     },
     "metadata": {},
     "output_type": "display_data"
    }
   ],
   "source": [
    "%matplotlib inline\n",
    "from matplotlib import pyplot as plt\n",
    "from matplotlib import animation\n",
    "\n",
    "import numpy as np\n",
    "import scipy.sparse.linalg as ssl\n",
    "\n",
    "c = 1 #spd of light\n",
    "size = 1   # domain size\n",
    "n = 100    # number of steps\n",
    "dx = size/n  #step size\n",
    "getev = 6 # eigenvalues desired\n",
    "\n",
    "eps1 = 13\n",
    "eps2 = 1\n",
    "\n",
    "iden = np.ones((n,n)) #identity matrix\n",
    "F = (1/dx)*(np.triu(iden)-2*np.diag(np.diag(iden))-np.triu(iden,2))\n",
    "B = (1/dx)*(-np.tril(iden)+2*np.diag(np.diag(iden))+np.tril(iden,-2))\n",
    "\n",
    "epscol = (1/eps1)*np.ones(n/2)\n",
    "epscol = np.append(epscol, (1/eps2)*np.ones(n/2))\n",
    "epsma = np.diag(epscol)\n",
    "\n",
    "kvec = 2*np.pi*np.arange(-0.501,0.501,0.005)  #range of k's to be used\n",
    "k = np.zeros((getev, len(kvec)), dtype=complex)  #eigenvalues go here\n",
    "\n",
    "for i in range(0,len(kvec)):\n",
    "    k0 = kvec[i]\n",
    "    \n",
    "    F[n-1,0] = np.cos(k0*size)/dx\n",
    "    B[0,n-1] = -np.cos(k0*size)/dx\n",
    "    bf = -np.matmul(B,F)\n",
    "    ebf = np.matmul(epsma,bf)\n",
    "    \n",
    "    kt = k0/np.sqrt((eps1+eps2)/2)\n",
    "    evalues, evectors = ssl.eigs(ebf, k=6, M=None, sigma=-kt**2, v0 = np.ones(n))\n",
    "    \n",
    "    k[:,i] = np.sqrt(np.sort(evalues))/c\n",
    "\n",
    "#print(np.linalg.eigvals(bf-kt**2))\n",
    "#print(np.real(k))\n",
    "\n",
    "#lam = 2*np.pi*c/np.real(k)\n",
    "lam = 1/np.real(k)\n",
    "#qualf = np.real(k)/(2*np.imag(k))\n",
    "\n",
    "plt.hold(True)\n",
    "fignum = 0\n",
    "#for i in range(1, getev):\n",
    "#    fignum = fignum + 1\n",
    "#    plt.figure(fignum)\n",
    "#    plt.plot(evectors[:,i])\n",
    "        \n",
    "plt.figure(fignum+1)\n",
    "plt.title(\"dispersion relation\")\n",
    "for i in range(0, getev):\n",
    "    plt.plot((kvec/(2*np.pi)), ((k[i,:])/(2*np.pi)))\n",
    "    plt.ylim(0,0.3)\n",
    "    plt.xlim(-0.5,0.5)"
   ]
  },
  {
   "cell_type": "markdown",
   "metadata": {
    "collapsed": true
   },
   "source": []
  }
 ],
 "metadata": {
  "kernelspec": {
   "display_name": "Python 3",
   "language": "python",
   "name": "python3"
  },
  "language_info": {
   "codemirror_mode": {
    "name": "ipython",
    "version": 3
   },
   "file_extension": ".py",
   "mimetype": "text/x-python",
   "name": "python",
   "nbconvert_exporter": "python",
   "pygments_lexer": "ipython3",
   "version": "3.5.1"
  }
 },
 "nbformat": 4,
 "nbformat_minor": 0
}
