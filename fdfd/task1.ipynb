{
 "cells": [
  {
   "cell_type": "code",
   "execution_count": 121,
   "metadata": {
    "collapsed": false
   },
   "outputs": [],
   "source": [
    "import numpy as np\n",
    "import scipy.sparse.linalg as ssl\n",
    "\n",
    "c = 1 #spd of light\n",
    "size = 1   # domain size\n",
    "n = 100    # number of steps\n",
    "dx = size/n  #step size\n",
    "getev = 6 # eigenvalues desired\n",
    "\n",
    "iden = np.ones((n,n)) #identity matrix\n",
    "F = (1/dx)*(np.triu(iden)-2*np.diag(np.diag(iden))-np.triu(iden,2))\n",
    "B = (1/dx)*(-np.tril(iden)+2*np.diag(np.diag(iden))+np.tril(iden,-2))\n",
    "bf = -np.matmul(B,F)\n",
    "\n",
    "\n",
    "#%matplotlib inline\n",
    "#import matplotlib.pyplot as plt\n",
    "#import scipy as sp \n",
    "#plt.spy(sp.sparse.csr_matrix(bf)) # to visualize matrix\n",
    "#plt.show()\n",
    "\n",
    "kt = 2*np.pi\n",
    "k2, V = ssl.eigs(bf, k=getev, M=None, sigma=kt**2) \n",
    "\n",
    "k = np.sort(np.sqrt(k2))\n",
    "\n",
    "#print(np.linalg.eigvals(bf-kt**2))\n",
    "#print(np.real(k))\n",
    "\n",
    "lam = 2*np.pi*c/np.real(k)\n",
    "#qualf = np.real(k)/(2*np.imag(k)) #is infinite?\n",
    "\n",
    "eplot = open('eplot', 'w')\n",
    "for i in range(0,n):\n",
    "    eplot.write(str(i) + \"    \" + str(np.real(V[i,5])) + \"\\n\")\n",
    "eplot.close()\n",
    "\n",
    "lamplot = open('lamplot', 'w')\n",
    "for i in range(1,getev):\n",
    "    lamplot.write(str(i) + \"    \" + str(np.real(lam[i])) + \"\\n\")\n",
    "lamplot.close()"
   ]
  },
  {
   "cell_type": "markdown",
   "metadata": {},
   "source": [
    "in gnuplot, run \n",
    "> plot \"eplot\" with lines\n",
    "> plot \"lamplot\" with lines"
   ]
  },
  {
   "cell_type": "code",
   "execution_count": null,
   "metadata": {
    "collapsed": true
   },
   "outputs": [],
   "source": []
  }
 ],
 "metadata": {
  "kernelspec": {
   "display_name": "Python 3",
   "language": "python",
   "name": "python3"
  },
  "language_info": {
   "codemirror_mode": {
    "name": "ipython",
    "version": 3
   },
   "file_extension": ".py",
   "mimetype": "text/x-python",
   "name": "python",
   "nbconvert_exporter": "python",
   "pygments_lexer": "ipython3",
   "version": "3.5.1"
  }
 },
 "nbformat": 4,
 "nbformat_minor": 0
}
