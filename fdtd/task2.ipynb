{
 "cells": [
  {
   "cell_type": "markdown",
   "metadata": {},
   "source": [
    "Task 2"
   ]
  },
  {
   "cell_type": "code",
   "execution_count": 44,
   "metadata": {
    "collapsed": false
   },
   "outputs": [],
   "source": [
    "%matplotlib inline\n",
    "from matplotlib import pyplot as plt\n",
    "from matplotlib import animation\n",
    "\n",
    "import numpy as np\n",
    "import math as m\n",
    "\n",
    "nx = 300\n",
    "srcori = int(nx/2) #source is at center\n",
    "srcwid = 5 #source width\n",
    "srcdel = 20 #source delay\n",
    "nt = nx+srcdel\n",
    "\n",
    "imp0 = 337.0 #impedance\n",
    "\n",
    "ez = np.zeros(nx)\n",
    "hy = np.zeros(nx)\n",
    "\n",
    "eplot = open('eplot', 'w')\n",
    "hplot = open('hplot', 'w')\n",
    "\n",
    "for dt in range(0,nt):\n",
    "    for j in range(0,nx-2):\n",
    "        hy[j] = hy[j] + (ez[j+1]-ez[j])/imp0\n",
    "        \n",
    "    for j in range(1,nx-1):\n",
    "        ez[j] = ez[j] + (hy[j]-hy[j-1])*imp0\n",
    "    #ez[srcori] += m.exp(-(dt-srcdel)*(dt-srcdel)/srcwid)\n",
    "    ez[srcori] += m.exp(-((dt-srcdel)*(dt-srcdel))/(srcwid*srcwid))\n",
    "\n",
    "    plt.hold(True)\n",
    "    if (dt % 60 == 0 or dt == nt-2):\n",
    "        fignum = fignum + 1\n",
    "        plt.figure(fignum)\n",
    "        plt.plot(ez)\n",
    "        \n",
    "        if (dt != nt-2):\n",
    "            plt.plot(hy*imp0)"
   ]
  },
  {
   "cell_type": "code",
   "execution_count": null,
   "metadata": {
    "collapsed": true
   },
   "outputs": [],
   "source": []
  }
 ],
 "metadata": {
  "kernelspec": {
   "display_name": "Python 3",
   "language": "python",
   "name": "python3"
  },
  "language_info": {
   "codemirror_mode": {
    "name": "ipython",
    "version": 3
   },
   "file_extension": ".py",
   "mimetype": "text/x-python",
   "name": "python",
   "nbconvert_exporter": "python",
   "pygments_lexer": "ipython3",
   "version": "3.5.1"
  }
 },
 "nbformat": 4,
 "nbformat_minor": 0
}
