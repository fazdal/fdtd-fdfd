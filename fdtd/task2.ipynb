{
 "cells": [
  {
   "cell_type": "markdown",
   "metadata": {},
   "source": [
    "Task 2: Convolutional perfectly matched layer\n",
    "==="
   ]
  },
  {
   "cell_type": "markdown",
   "metadata": {},
   "source": [
    "Derivation\n",
    "---\n",
    "\n",
    "An alternative method in creating a simulation space with seemingly endless boundaries is the perfectly matched layer (PML). These layers are created such that any incident wave propagating inside the PML is absorbed, and another requirement is that the PML must have zero reflection at the interface.\n",
    "\n",
    "The process in which this happens is as follows: An incident wave will initially enter the PML domain, and will be attenuated by a rate $\\alpha_{PML}$ over the thickness of the layer $\\Delta PML$, and then be reflected at the edge of the simulation space, which has a perfect electric conductor. \n",
    "\n",
    "After reflection, the wave will still be inside the PML domain, so it will be attenuated again at a rate $\\alpha_{PML}$ in the layer. As a result, the wave will be attenuated by a factor $e^{-2 \\alpha_{PML} \\Delta PML}$. This reflection factor, in the more general 2D case, is of the form\n",
    "\n",
    "\\begin{equation}\n",
    "R(\\theta) = e^{-2 \\eta \\cos \\theta \\int_{0}^{\\Delta PML} \\sigma(x) \\mathrm{d} x }\n",
    "\\end{equation}\n",
    "\n",
    "however, in 1D, the incident wave is always at normal incidence to the boundary. We can take the reflection factor to be a constant\n",
    "\n",
    "\\begin{equation}\n",
    "R(0) = 10^{-6}\n",
    "\\end{equation}"
   ]
  },
  {
   "cell_type": "markdown",
   "metadata": {},
   "source": [
    "In order to reduce the reflection error from the discretization of the domain, Bérenger introduced grading the PML conductivity $\\sigma$ smoothly, from zero to some maximum value at the boundary. One variation of this grading is the polynomial grading, in which the conductivity inside the PML is given by\n",
    "\n",
    "\\begin{equation}\n",
    "\\sigma(x) = \\sigma_{max} \\left( \\dfrac{x}{\\Delta PML} \\right)^m \n",
    "\\end{equation}\n",
    "\n",
    "Here, $m$ is the order of polynomial grading; $3 \\leq m \\leq 4$ has been found to be optimal for FDTD, and the maximum conductivity $\\sigma_{max}$ is given by\n",
    "\n",
    "\\begin{equation}\n",
    "\\sigma_{max} = -\\dfrac{(m+1) \\ln[R(0)]}{2\\eta \\Delta PML}\n",
    "\\end{equation}"
   ]
  },
  {
   "cell_type": "markdown",
   "metadata": {},
   "source": [
    "In this task, we use the complex-frequency-shifted (CFS) PML method derived by Roden and Gedney. We start with Ampere's Law in the frequency domain\n",
    "\n",
    "\\begin{equation}\n",
    "i \\omega \\epsilon E_z = \\dfrac{1}{s_E} \\dfrac{\\partial H_y}{\\partial x}\n",
    "\\end{equation}\n",
    "\n",
    "in which the material where field propagates in outside the PML has zero losses, and where $s_E$ is some constant given by\n",
    "\n",
    "\\begin{equation}\n",
    "s_E = 1 + \\dfrac{\\sigma}{i \\omega \\epsilon_0}\n",
    "\\end{equation}\n",
    "\n",
    "The subscript $E$ indicates that this $s$ is related to the electric field. In the code, $s_E$ and $s_H$ have a small shift due to how the grid is defined. Transforming the equation for $E_z$ into the time domain,\n",
    "\n",
    "\\begin{equation}\n",
    "\\epsilon \\dfrac{\\partial E_z}{\\partial t} = \\bar{s_E} * \\dfrac{\\partial H_y}{\\partial x}\n",
    "\\end{equation}\n",
    "\n",
    "where $\\bar{s_E}$ is defined as the Laplace transform of the original $s_E$, and $*$ indicates the convolution operator. The function $\\bar{s_E}$ is given by\n",
    "\n",
    "\\begin{equation}\n",
    "\\bar{s_E} = \\delta(t) + \\zeta_E(t)\n",
    "\\end{equation}\n",
    "\n",
    "hence\n",
    "\n",
    "\\begin{equation}\n",
    "\\epsilon \\dfrac{\\partial E_z}{\\partial t} = \\dfrac{\\partial H_y}{\\partial x} + \\zeta_E(t) * \\dfrac{\\partial H_y}{\\partial x}\n",
    "\\end{equation}\n"
   ]
  },
  {
   "cell_type": "markdown",
   "metadata": {},
   "source": [
    "It can be shown that the discrete response of $\\zeta_E (t)$ is given by\n",
    "\n",
    "\\begin{equation}\n",
    "Z_E (m) = a_E \\; exp\\left( \\dfrac{\\sigma m \\Delta t}{\\epsilon_0} \\right)\n",
    "\\end{equation}\n",
    "\n",
    "where the constant $a_E$ is\n",
    "\n",
    "\\begin{equation}\n",
    "a_E = \\mathrm{exp}\\left ( - \\dfrac{\\sigma \\Delta t}{\\epsilon_0} \\right ) -1 \n",
    "\\end{equation}"
   ]
  },
  {
   "cell_type": "markdown",
   "metadata": {},
   "source": [
    "Using the discretization of the derivatives, the update equation based on Ampere's Law now becomes\n",
    "\n",
    "\\begin{equation}\n",
    "\\epsilon \\dfrac{1}{\\Delta t} \\left ( E_z \\Big |^{n+1}_{i} - E_z \\Big |^{n}_{i} \\right ) = \\dfrac{1}{\\Delta x} \\left ( H_y \\Big |^{n+1/2}_{i+1/2} - H_y \\Big |^{n+1/2}_{i-1/2} \\right ) + \\sum^{N-1}_{m=0} \\dfrac{1}{\\Delta x} Z_E (m) \\left ( H_y \\Big |^{n-m+1/2}_{i+1/2} - H_y \\Big |^{n-m+1/2}_{i-1/2} \\right )\n",
    "\\end{equation}\n",
    "\n",
    "from the form of $Z_E$, the convolution can be performed in a simpler manner if we introduced a variable $\\psi_E$ such that we obtain an update equation\n",
    "\n",
    "\\begin{equation}\n",
    "\\epsilon \\dfrac{1}{\\Delta t} \\left ( E_z \\Big |^{n+1}_{i} - E_z \\Big |^{n}_{i} \\right ) = \\dfrac{1}{\\Delta x} \\left ( H_y \\Big |^{n+1/2}_{i+1/2} - H_y \\Big |^{n+1/2}_{i-1/2} \\right ) + \\psi_E \\Big |^{n+1/2}_{i+1/2}\n",
    "\\end{equation}\n",
    "\n",
    "The subscript indicates that this is the $\\psi$ associated with updating the electric field. This variable is defined such that\n",
    "\n",
    "\\begin{equation}\n",
    "\\psi_E \\Big |^{n+1/2}_{i+1/2} = b_E \\psi_E \\Big |^{n-1/2}_{i+1/2} + \\dfrac{a_E}{\\Delta x} \\left ( H_y \\Big |^{n+1/2}_{i+1/2} - H_y \\Big |^{n+1/2}_{i-1/2} \\right )\n",
    "\\end{equation}\n",
    "\n",
    "where the constant $b_E$ defined as\n",
    "\n",
    "\\begin{equation}\n",
    "b_E = \\mathrm{exp}\\left ( - \\dfrac{\\sigma \\Delta t}{\\epsilon_0} \\right )\n",
    "\\end{equation}\n",
    "\n",
    "Solving thre update equation for $E_z \\Big |^{n+1}_{i+1/2}$, \n",
    "\n",
    "\\begin{equation}\n",
    "E_z \\Big |^{n+1}_{i} = E_z \\Big |^{n}_{i} + \\dfrac{1}{\\epsilon} \\dfrac{\\Delta t}{\\Delta x} \\left ( H_y \\Big |^{n+1/2}_{i+1/2} - H_y \\Big |^{n+1/2}_{i-1/2} \\right ) + \\Delta t \\dfrac{1}{\\epsilon} \\psi_E \\Big |^{n+1/2}_{i+1/2}\n",
    "\\end{equation}"
   ]
  },
  {
   "cell_type": "markdown",
   "metadata": {},
   "source": [
    "Using a similar expression from Faraday's Law\n",
    "\n",
    "\\begin{equation}\n",
    "i \\omega \\mu H_y = \\dfrac{1}{s_H} \\dfrac{\\partial E_z}{\\partial x}\n",
    "\\end{equation}\n",
    "\n",
    "we obtain the following update equation\n",
    "\n",
    "\\begin{equation}\n",
    "\\mu \\dfrac{1}{\\Delta t} \\left ( H_y \\Big |^{n+1/2}_{i+1/2} - H_y \\Big |^{n-1/2}_{i+1/2} \\right ) = \\dfrac{1}{\\Delta x} \\left ( E_z \\Big |^{n}_{i+1} - E_z \\Big |^{n}_{i} \\right ) + \\psi_H \\Big |^{n}_{i+1}\n",
    "\\end{equation}\n",
    "\n",
    "in which $\\psi_H$, $a_H$, and $b_H$ are defined similarly\n",
    "\n",
    "\\begin{equation}\n",
    "\\psi_H \\Big |^{n}_{i+1} = b_H \\psi_H \\Big |^{n-1/2}_{i+1/2} + \\dfrac{a_H}{\\Delta x} \\left ( E_z \\Big |^{n}_{i+1} - E_z \\Big |^{n}_{i} \\right )\n",
    "\\end{equation}\n",
    "\n",
    "\\begin{equation}\n",
    "a_H = \\mathrm{exp}\\left ( - \\dfrac{\\sigma \\Delta t}{\\epsilon_0} \\right ) -1 \n",
    "\\end{equation}\n",
    "\n",
    "\\begin{equation}\n",
    "b_H = \\mathrm{exp}\\left ( - \\dfrac{\\sigma \\Delta t}{\\epsilon_0} \\right )\n",
    "\\end{equation}\n",
    "\n",
    "So the update equation is now\n",
    "\n",
    "\\begin{equation}\n",
    "H_y \\Big |^{n+1/2}_{i+1/2} =  H_y \\Big |^{n-1/2}_{i+1/2} + \\dfrac{1}{\\mu} \\dfrac{\\Delta t}{\\Delta x} \\left ( E_z \\Big |^{n}_{i+1} - E_z \\Big |^{n}_{i} \\right ) + \\dfrac{1}{\\mu} \\Delta t \\psi_H \\Big |^{n}_{i+1}\n",
    "\\end{equation}"
   ]
  },
  {
   "cell_type": "markdown",
   "metadata": {},
   "source": [
    "Recall that \n",
    "\\begin{equation}\n",
    "\\dfrac{1}{\\epsilon} \\dfrac{\\Delta t}{\\Delta x} = \\dfrac{\\eta_0}{\\epsilon_r} S_c \\qquad \\mathrm{and} \\qquad \n",
    "\\dfrac{1}{\\mu} \\dfrac{\\Delta t}{\\Delta x} = \\dfrac{1}{\\mu_r \\eta_0} S_c\n",
    "\\end{equation}\n",
    "\n",
    "\\end{equation}\n",
    "\n",
    "and we note that in our implementation $\\Delta t$ and $\\Delta x$, and the Courant number are all set to unity. \n",
    "\n",
    "The final update equations are now\n",
    "\n",
    "\\begin{equation}\n",
    "H_y \\Big |^{n+1/2}_{i+1/2} =  H_y \\Big |^{n-1/2}_{i+1/2} + \\dfrac{1}{\\mu_r \\eta_0} \\left ( E_z \\Big |^{n}_{i+1} - E_z \\Big |^{n}_{i} \\right ) + \\dfrac{1}{\\mu_r \\eta_0} \\psi_H \\Big |^{n}_{i+1}\n",
    "\\end{equation}\n",
    "\n",
    "\\begin{equation}\n",
    "E_z \\Big |^{n+1}_{i} = E_z \\Big |^{n}_{i} + \\dfrac{\\eta_0}{\\epsilon_r} \\left ( H_y \\Big |^{n+1/2}_{i+1/2} - H_y \\Big |^{n+1/2}_{i-1/2} \\right ) + \\dfrac{\\eta_0}{\\epsilon_r} \\psi_E \\Big |^{n+1/2}_{i+1/2}\n",
    "\\end{equation}"
   ]
  },
  {
   "cell_type": "markdown",
   "metadata": {},
   "source": [
    "Python implementation\n",
    "----\n",
    "\n",
    "First, we begin with importing the libraries for plotting and for the mathematical functions used in the simulation."
   ]
  },
  {
   "cell_type": "code",
   "execution_count": 7,
   "metadata": {
    "collapsed": true
   },
   "outputs": [],
   "source": [
    "%matplotlib inline\n",
    "from matplotlib import pyplot as plt\n",
    "import numpy as np\n",
    "import math as m\n",
    "\n",
    "fignum = 0"
   ]
  },
  {
   "cell_type": "markdown",
   "metadata": {},
   "source": [
    "We also define the size of the domain in both space and time, as well as a few other parameters for the source. Here, we also initialize the electric and magnetic fields to be zero, and the position array."
   ]
  },
  {
   "cell_type": "code",
   "execution_count": 8,
   "metadata": {
    "collapsed": false
   },
   "outputs": [],
   "source": [
    "epsilon = 5                      #permittivity\n",
    "imp0 = 337.0                      #impedance\n",
    "\n",
    "nx = 500\n",
    "\n",
    "srcori = int(nx/2)                #source is at center\n",
    "srcwid = 30.0*np.sqrt(epsilon)    #source width\n",
    "srcdel = 10*srcwid                #source delay\n",
    "\n",
    "nt = int((nx+srcdel)*np.sqrt(epsilon))\n",
    "\n",
    "ez = np.zeros(nx)\n",
    "hy = np.zeros(nx)\n",
    "x = np.arange(0,nx-1,1)"
   ]
  },
  {
   "cell_type": "markdown",
   "metadata": {},
   "source": [
    "We define variables for the reflection factor $R(0)$, the polynomial grading $m$, the thickness of the PML $\\Delta PML$, and the maximum conductivity $\\sigma_{max}$. "
   ]
  },
  {
   "cell_type": "code",
   "execution_count": 9,
   "metadata": {
    "collapsed": true
   },
   "outputs": [],
   "source": [
    "R0 = 1e-6          # reflection factor\n",
    "gra = 4             # order of polynomial grading\n",
    "dpml = 20           # number of PML cells\n",
    "\n",
    "smax = -((gra+1)*m.log(R0))/(2*imp0*dpml)"
   ]
  },
  {
   "cell_type": "markdown",
   "metadata": {},
   "source": [
    "Defining the polynomial grading at the boundaries. \n",
    "\n",
    "Here we define the arrays \\texttt{es} and \\texttt{hs} for the complex phase $\\psi$ for the electric and magnetic fields. Note that the are only defined from 0 to $\\Delta PML$ on the left side, and from $nx$ to $nx-\\Delta PML$ on the other end; for anywhere else in the array, \\texttt{es} and \\texttt{hs} are zero."
   ]
  },
  {
   "cell_type": "code",
   "execution_count": 10,
   "metadata": {
    "collapsed": true
   },
   "outputs": [],
   "source": [
    "es = np.zeros(nx)\n",
    "hs = np.zeros(nx)\n",
    "\n",
    "#polynomial gradng of the conductivity at the boundaries\n",
    "for i in range(dpml):\n",
    "    #for the left side of the PML\n",
    "    es[i+1] = smax*((dpml-i-0.5)/dpml)**gra\n",
    "    hs[i] = smax*((dpml-i)/dpml)**gra  \n",
    "    \n",
    "    #for the right side of the PML\n",
    "    es[nx-i-1] = smax*((dpml-i-0.5)/dpml)**gra \n",
    "    hs[nx-i-1] = smax*((dpml-i)/dpml)**gra"
   ]
  },
  {
   "cell_type": "markdown",
   "metadata": {},
   "source": [
    "We define constants $a$ and $b$ for both electric and magnetic fields, and we initialize the array for the phase $\\psi$."
   ]
  },
  {
   "cell_type": "code",
   "execution_count": 11,
   "metadata": {
    "collapsed": true
   },
   "outputs": [],
   "source": [
    "ea = np.exp(-es*imp0)-1\n",
    "eb = np.exp(-es*imp0)\n",
    "\n",
    "ha = np.exp(-hs*imp0)-1\n",
    "hb = np.exp(-hs*imp0)\n",
    "\n",
    "psihy = np.zeros(nx)\n",
    "psiez = np.zeros(nx)"
   ]
  },
  {
   "cell_type": "markdown",
   "metadata": {},
   "source": [
    "The loop for generating the fields. Here, we added the added phase for the PML \\texttt{psihy} and \\texttt{psiez}. These phases change the fields at the PML domains.\n",
    "\n",
    "Notice that after each reflection, the field amplitude is drastically reduced."
   ]
  },
  {
   "cell_type": "code",
   "execution_count": 12,
   "metadata": {
    "collapsed": false
   },
   "outputs": [
    {
     "data": {
      "image/png": "[encoded data removed]",
      "text/plain": [
       "<matplotlib.figure.Figure at 0x7fb821d7c908>"
      ]
     },
     "metadata": {},
     "output_type": "display_data"
    },
    {
     "data": {
      "image/png": "[encoded data removed]",
      "text/plain": [
       "<matplotlib.figure.Figure at 0x7fb81f4f1208>"
      ]
     },
     "metadata": {},
     "output_type": "display_data"
    },
    {
     "data": {
      "image/png": "[encoded data removed]",
      "text/plain": [
       "<matplotlib.figure.Figure at 0x7fb81f43e9e8>"
      ]
     },
     "metadata": {},
     "output_type": "display_data"
    }
   ],
   "source": [
    "for dt in range(0,nt):\n",
    "    psihy[x] = hb[x]*psihy[x] + ha[x]*(ez[x+1] - ez[x])\n",
    "    hy[x] = hy[x] + (ez[x+1] - ez[x])/imp0 + psihy[x]/imp0\n",
    "    \n",
    "    psiez[x+1] = eb[x+1]*psiez[x+1] + ea[x+1]*(hy[x+1]-hy[x])\n",
    "    ez[x+1] = ez[x+1] + (hy[x+1]-hy[x])*imp0/epsilon + psiez[x+1]*imp0/epsilon\n",
    "\n",
    "    ez[srcori] += m.exp(-((dt-srcdel)*(dt-srcdel))/(srcwid*srcwid))\n",
    "\n",
    "    plt.hold(True)\n",
    "    if (dt % 1000 == 0 and dt < 7000 ):\n",
    "        fignum = fignum + 1\n",
    "        plt.figure(fignum)\n",
    "        plt.title(\"Field at t = \" + str(dt))\n",
    "        plt.ylabel(\"Field Amplitude\")\n",
    "        plt.xlabel(\"Position\")\n",
    "        plt.plot(ez, label=\"E-Field\")\n",
    "        plt.plot(hy*imp0, label=\"H-Field\")\n",
    "        plt.legend()"
   ]
  },
  {
   "cell_type": "markdown",
   "metadata": {
    "collapsed": true
   },
   "source": [
    "References\n",
    "---\n",
    "\n",
    "Inan, U. S. & Marshall, R. A. *Numerical electromagnetics: the FDTD method.* (Cambridge University Press, 2011).\n",
    "\n",
    "Roden, J. A. & Gedney, S. D. *Convolution PML (CPML): An efficient FDTD implementation of the CFS-PML for arbitrary media.* Microwave and Optical Technology Letters 27, 334–339 (2000).\n",
    "\n",
    "Schneider, J. B. *Understanding the finite-difference time-domain method.* School of electrical engineering and computer science Washington State University.–URL: http://www. Eecs. Wsu. Edu/∼ schneidj/ufdtd/(request data: 29.11. 2012) (2010).\n"
   ]
  }
 ],
 "metadata": {
  "kernelspec": {
   "display_name": "Python 3",
   "language": "python",
   "name": "python3"
  },
  "language_info": {
   "codemirror_mode": {
    "name": "ipython",
    "version": 3
   },
   "file_extension": ".py",
   "mimetype": "text/x-python",
   "name": "python",
   "nbconvert_exporter": "python",
   "pygments_lexer": "ipython3",
   "version": "3.5.1"
  }
 },
 "nbformat": 4,
 "nbformat_minor": 0
}
