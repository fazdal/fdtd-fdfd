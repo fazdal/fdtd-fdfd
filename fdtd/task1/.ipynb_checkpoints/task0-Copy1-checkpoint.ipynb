{
 "cells": [
  {
   "cell_type": "markdown",
   "metadata": {},
   "source": [
    "Task 1: "
   ]
  },
  {
   "cell_type": "code",
   "execution_count": 1,
   "metadata": {
    "collapsed": false
   },
   "outputs": [],
   "source": [
    "import numpy as np\n",
    "import math as m\n",
    "\n",
    "nx = 200\n",
    "srcori = int(nx/2) #source is at center\n",
    "srcwid = 10 #source width\n",
    "srcdel = 50 #source delay\n",
    "nt = nx+srcdel\n",
    "\n",
    "imp0 = 337.0 #impedance\n",
    "\n",
    "ez = np.zeros(nx)\n",
    "hy = np.zeros(nx)\n",
    "\n",
    "eplot = open('eplot', 'w')\n",
    "hplot = open('hplot', 'w')\n",
    "\n",
    "for dt in range(0,nt):\n",
    "    \n",
    "    hy[nx-2] = hy[nx-3]\n",
    "    for j in range(0,nx-2):\n",
    "        hy[j] = hy[j] + (ez[j+1]-ez[j])/imp0\n",
    "        \n",
    "    ez[0] = ez[1]\n",
    "    for j in range(1,nx-1):\n",
    "        ez[j] = ez[j] + (hy[j]-hy[j-1])*imp0\n",
    "    #ez[srcori] += m.exp(-(dt-srcdel)*(dt-srcdel)/srcwid)\n",
    "    ez[srcori] += m.exp(-((dt-srcdel)*(dt-srcdel))/(srcwid*srcwid))\n",
    "\n",
    "#    if ( dt == 100 ):\n",
    "    for i in range(0,nx):\n",
    "        if ( i == 0 ):\n",
    "            eplot.write(\"\\n\")\n",
    "            hplot.write(\"\\n\")\n",
    "            \n",
    "        eplot.write(str(dt) + \"    \" + str(i) + \"    \" + str(ez[i]) + \"\\n\")\n",
    "        hplot.write(str(dt) + \"    \" + str(i) + \"    \" + str(imp0*hy[i]) + \"\\n\")\n",
    "        \n",
    "eplot.close()\n",
    "hplot.close()\n",
    "\n",
    "gpcode = open('gnu.gp', 'w')\n",
    "\n",
    "gpcode.write(\"set terminal gif animate delay 5 loop 0\" + \"\\n\")\n",
    "gpcode.write(\"set output 'ehplot.gif'\" + \"\\n\")\n",
    "gpcode.write(\"set xrange[0:\" + str(nx-1) + \"]\" + \"\\n\")\n",
    "gpcode.write(\"set yrange[-1:1]\" + \"\\n\")\n",
    "\n",
    "gpcode.write(\"do for [i=0:\" + str(nt-2) + \"] {\" + \"\\n\")\n",
    "gpcode.write(\"    set title sprintf('t = %d', i)\" + \"\\n\")\n",
    "gpcode.write('    plot \"eplot\" every :::i::i using 2:3 title \"E-field\" with lines lw 2, ')\n",
    "gpcode.write('    \"hplot\" every :::i::i using 2:3 title \"H-field\" with lines' + \"\\n\")\n",
    "gpcode.write(\"}\" + \"\\n\")\n",
    "gpcode.write(\"set output\" + \"\\n\")\n",
    "\n",
    "gpcode.write(\"set output 'eplotfinal.gif'\" + \"\\n\")\n",
    "gpcode.write(\"set autoscale y\" + \"\\n\")\n",
    "gpcode.write(\"i = \" + str(nt-2) + \"\\n\")\n",
    "gpcode.write(\"set title 'at t = \"+ str(nt-1) + \"'\" + \"\\n\")\n",
    "gpcode.write('    plot \"eplot\" every :::i::i using 2:3 title \"E-field\" with lines' + \"\\n\")\n",
    "gpcode.write(\"set output\" + \"\\n\")\n",
    "\n",
    "gpcode.close()"
   ]
  },
  {
   "cell_type": "code",
   "execution_count": null,
   "metadata": {
    "collapsed": false
   },
   "outputs": [],
   "source": []
  },
  {
   "cell_type": "code",
   "execution_count": null,
   "metadata": {
    "collapsed": true
   },
   "outputs": [],
   "source": []
  }
 ],
 "metadata": {
  "kernelspec": {
   "display_name": "Python 3",
   "language": "python",
   "name": "python3"
  },
  "language_info": {
   "codemirror_mode": {
    "name": "ipython",
    "version": 3
   },
   "file_extension": ".py",
   "mimetype": "text/x-python",
   "name": "python",
   "nbconvert_exporter": "python",
   "pygments_lexer": "ipython3",
   "version": "3.5.1"
  }
 },
 "nbformat": 4,
 "nbformat_minor": 0
}
