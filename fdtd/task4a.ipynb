{
 "cells": [
  {
   "cell_type": "markdown",
   "metadata": {},
   "source": [
    "Task 4: Fresnel Equations\n",
    "===\n",
    "\n",
    "(ABC version)"
   ]
  },
  {
   "cell_type": "code",
   "execution_count": 15,
   "metadata": {
    "collapsed": true
   },
   "outputs": [],
   "source": [
    "%matplotlib inline\n",
    "from matplotlib import pyplot as plt\n",
    "\n",
    "import numpy as np\n",
    "import math as m\n",
    "\n",
    "fignum = 0"
   ]
  },
  {
   "cell_type": "code",
   "execution_count": 16,
   "metadata": {
    "collapsed": false
   },
   "outputs": [],
   "source": [
    "nx = 1800\n",
    "imp0 = 377.0\n",
    "\n",
    "\n",
    "eps = np.ones(nx)\n",
    "for i in range(nx):\n",
    "    if (i >= int(nx/2)):\n",
    "        eps[i] = 1\n",
    "    else:\n",
    "        eps[i] = 9\n",
    "        \n",
    "n1 = m.sqrt(eps[0])\n",
    "n2 = m.sqrt(eps[-1])"
   ]
  },
  {
   "cell_type": "code",
   "execution_count": 17,
   "metadata": {
    "collapsed": false
   },
   "outputs": [],
   "source": [
    "srcori = int(nx/4)              #source origin\n",
    "srcwid = 100*np.sqrt(eps[0])\n",
    "srcdel = 20*srcwid              #source delay\n",
    "nt = int(1.5*nx+srcdel)"
   ]
  },
  {
   "cell_type": "code",
   "execution_count": 18,
   "metadata": {
    "collapsed": true
   },
   "outputs": [],
   "source": [
    "ez = np.zeros(nx)\n",
    "hy = np.zeros(nx)\n",
    "x = np.arange(0,nx-1,1)\n",
    "\n",
    "emaxleft = np.zeros(nt)\n",
    "emaxright = np.zeros(nt)\n",
    "hmaxleft = np.zeros(nt)\n",
    "hmaxright = np.zeros(nt)"
   ]
  },
  {
   "cell_type": "code",
   "execution_count": 19,
   "metadata": {
    "collapsed": false
   },
   "outputs": [],
   "source": [
    "lc = 1/np.sqrt(eps[0])\n",
    "la = (lc-1)/(lc+1)\n",
    "lb = 2/(lc + 1)\n",
    "\n",
    "rc = 1/np.sqrt(eps[-1])\n",
    "ra = (rc-1)/(rc+1)\n",
    "rb = 2/(rc + 1)"
   ]
  },
  {
   "cell_type": "code",
   "execution_count": 20,
   "metadata": {
    "collapsed": false
   },
   "outputs": [],
   "source": [
    "hwnp10, ewnp10 = 0,0 # W | ^{n+1} _{0}\n",
    "hwnm11, ewnm11 = 0,0 # W | ^{n-1} _{1}\n",
    "hwnp11, ewnp11 = 0,0 # W | ^{n+1} _{1}\n",
    "hwnm10, ewnm10 = 0,0 # W | ^{n-1} _{0}\n",
    "hwn0  , ewn0   = 0,0 # W | ^{n  } _{0}\n",
    "hwn1  , ewn1   = 0,0 # W | ^{n  } _{1}\n",
    "\n",
    "hwnp1im1, ewnp1im1 = 0,0 # W | ^{n+1} _{i-1}\n",
    "hwnm1i  , ewnm1i   = 0,0 # W | ^{n-1} _{i  }\n",
    "hwnp1i  , ewnp1i   = 0,0 # W | ^{n+1} _{i  }\n",
    "hwnm1im1, ewnm1im1 = 0,0 # W | ^{n-1} _{i-1}\n",
    "hwnim1  , ewnim1   = 0,0 # W | ^{n  } _{i-1}\n",
    "hwni    , ewni     = 0,0 # W | ^{n  } _{i  }"
   ]
  },
  {
   "cell_type": "code",
   "execution_count": 23,
   "metadata": {
    "collapsed": false
   },
   "outputs": [
    {
     "name": "stdout",
     "output_type": "stream",
     "text": [
      "n1: 3.0\n",
      "n2: 1.0\n",
      "tran fdtd: 0.749962449625\n",
      "tran fresnel: 0.75\n",
      "tran err: 0.00500671670395\n"
     ]
    }
   ],
   "source": [
    "for dt in range(0,nt):\n",
    "    ######################\n",
    "    #Magnetic field\n",
    "    ######################\n",
    "    hy[x] = hy[x] + (ez[x+1] - ez[x])/imp0\n",
    "\n",
    "    #abc at left\n",
    "    hwnp11 = hy[1]\n",
    "    hwnp10 = -hwnm11 + la*(hwnp11 + hwnm10) + lb*(hwn0 + hwn1)\n",
    "    hy[0] = hwnp10\n",
    "    hwnm11, hwnm10 = hwn1, hwn0\n",
    "    hwn1, hwn0  = hwnp11, hwnp10\n",
    "    \n",
    "    #abc at right\n",
    "    hwnp1im1 = hy[-2]\n",
    "    hwnp1i = - hwnm1im1 + ra*(hwnp1im1 + hwnm1i) + rb*(hwnp1i + hwnim1)\n",
    "    hy[-1] = hwnp1i\n",
    "    hwnm1i, hwnm1im1 = hwni, hwnim1\n",
    "    hwni, hwnim1  = hwnp1i, hwnp1im1\n",
    "    \n",
    "    ######################\n",
    "    #Electric field\n",
    "    ######################\n",
    "    ez[x+1] = ez[x+1] + (hy[x+1]-hy[x])*imp0/eps[x]\n",
    "    ez[srcori] += m.exp(-((dt-srcdel)*(dt-srcdel))/(srcwid*srcwid))\n",
    "\n",
    "    #abc at left\n",
    "    ewnp11 = ez[1]\n",
    "    ewnp10 = -ewnm11 + la*(ewnp11 + ewnm10) + lb*(ewn0 + ewn1)\n",
    "    ez[0] = ewnp10\n",
    "    ewnm11, ewnm10 = ewn1, ewn0\n",
    "    ewn1, ewn0  = ewnp11, ewnp10\n",
    "    \n",
    "    #abc at right\n",
    "    ewnp1im1 = ez[-2]\n",
    "    ewnp1i = - ewnm1im1 + ra*(ewnp1im1 + ewnm1i) + rb*(ewnp1i + ewnim1)\n",
    "    ez[-1] = ewnp1i\n",
    "    ewnm1i, ewnm1im1 = ewni, ewnim1\n",
    "    ewni, ewnim1  = ewnp1i, ewnp1im1\n",
    "\n",
    "#    plt.hold(True)\n",
    "#    if (dt % 500 == 0):\n",
    "#    if (dt == srcdel+srcwid+(0.75*nx)):\n",
    "#        fignum = fignum + 1\n",
    "#        plt.figure(fignum)\n",
    "#        plt.xlabel(\"Position\")\n",
    "#        plt.ylabel(\"Amplitude\")\n",
    "#        plt.title(\"Field at t = \"+ str(dt))\n",
    "#        plt.plot(ez, label=\"E-field\")\n",
    "#        plt.plot(hy*imp0, label=\"H-field\")\n",
    "#        plt.legend()\n",
    "        \n",
    "    emaxleft[dt] = np.amax(np.absolute(ez[0:int(nx/4)]))\n",
    "    emaxright[dt] = np.amax(np.absolute(ez[int(0.5*nx):nx]))\n",
    "    hmaxleft[dt] = np.amax(np.absolute(imp0*hy[0:int(nx/4)]))\n",
    "    hmaxright[dt] = np.amax(np.absolute(imp0*hy[int(0.5*nx):nx]))\n",
    "\n",
    "\n",
    "einc = np.amax(emaxleft)\n",
    "eref = np.amax(emaxleft[int(srcdel+srcwid+(0.5*nx)):nt])\n",
    "etra = np.amax(emaxright)\n",
    "\n",
    "hinc = np.amax(hmaxleft)\n",
    "href = np.amax(hmaxleft[int(srcdel+srcwid+(0.5*nx)):nt])\n",
    "htra = np.amax(hmaxright)\n",
    "\n",
    "tranfdtd = (etra*htra)/(einc*hinc)\n",
    "reflfdtd = (eref*href)/(einc*hinc)\n",
    "reflfren = np.absolute((n2-n1)/(n1+n2))**2\n",
    "tranfren = 1-reflfren\n",
    "\n",
    "print(\"n1: \" + str(n1))\n",
    "print(\"n2: \" + str(n2))\n",
    "print(\"tran fdtd: \" + str(tranfdtd))\n",
    "#print(\"refl fdtd: \" + str(reflfdtd))\n",
    "#print(\"refl fresnel: \" + str(reflfren))\n",
    "print(\"tran fresnel: \" + str(tranfren))\n",
    "#print(\"refl err: \" + str(100*np.absolute(reflfren-reflfdtd)/reflfren))\n",
    "print(\"tran err: \" + str(100*np.absolute(tranfren-tranfdtd)/tranfren))\n",
    "#print(\"fdtd R+T: \" + str(reflfdtd+tranfdtd))\n",
    "\n"
   ]
  },
  {
   "cell_type": "markdown",
   "metadata": {
    "collapsed": true
   },
   "source": [
    "eps 8 and 2:\n",
    "\n",
    "n1: 2.8284271247461903, n2: 1.4142135623730951\n",
    "\n",
    "tran err: 0.00385286447812\n",
    "\n",
    "\n",
    "eps 1 and 9:\n",
    "\n",
    "n1: 1.0, n2: 3.0\n",
    "\n",
    "tran err: 0.0130041877984\n",
    "\n",
    "\n",
    "eps 3 and 5:\n",
    "\n",
    "n1: 1.7320508075688772, n2: 2.23606797749979\n",
    "\n",
    "tran err: 0.00100185300095\n",
    "\n"
   ]
  }
 ],
 "metadata": {
  "kernelspec": {
   "display_name": "Python 3",
   "language": "python",
   "name": "python3"
  },
  "language_info": {
   "codemirror_mode": {
    "name": "ipython",
    "version": 3
   },
   "file_extension": ".py",
   "mimetype": "text/x-python",
   "name": "python",
   "nbconvert_exporter": "python",
   "pygments_lexer": "ipython3",
   "version": "3.5.1"
  }
 },
 "nbformat": 4,
 "nbformat_minor": 0
}
